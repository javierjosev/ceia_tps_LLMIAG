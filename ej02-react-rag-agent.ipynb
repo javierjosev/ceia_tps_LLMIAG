{
 "cells": [
  {
   "cell_type": "markdown",
   "metadata": {},
   "source": [
    "# LLMs e IA Generativa\n",
    "\n",
    "## Agentes para chatbot de CVs\n",
    "\n",
    "### Arquitectura ReAct"
   ]
  },
  {
   "cell_type": "code",
   "execution_count": null,
   "metadata": {},
   "outputs": [],
   "source": [
    "from RAG import RAG\n",
    "\n",
    "from typing import TypedDict, Annotated\n",
    "import operator\n",
    "from langchain_core.messages import AnyMessage, SystemMessage, HumanMessage, ToolMessage\n",
    "from langchain_groq import ChatGroq\n",
    "from langgraph.graph import StateGraph, END\n",
    "from pathlib import Path\n",
    "import os\n",
    "\n",
    "from langchain.tools import Tool\n",
    "\n",
    "from dotenv import load_dotenv\n",
    "\n",
    "load_dotenv()"
   ]
  },
  {
   "cell_type": "code",
   "execution_count": 2,
   "metadata": {},
   "outputs": [],
   "source": [
    "# Inicializar la clase RAG\n",
    "groq_model=\"llama3-8b-8192\"\n",
    "embedding_model_name=\"all-MiniLM-L6-v2\"\n",
    "embedding_model_dim=384\n",
    "index_name = \"cvs-embeddings\"\n",
    "rag = RAG(embedding_model_name, embedding_model_dim, index_name, groq_model)\n",
    "path = Path('docs/')\n",
    "rag.load_documents(path)\n",
    "\n",
    "# Registrar como herramienta\n",
    "rag_tool_langchain = Tool(\n",
    "    name=\"RAG_Tool\",\n",
    "    func=rag,\n",
    "    description=\"Una herramienta para responder preguntas utilizando recuperación de contexto y un modelo LLM en Groq.\"\n",
    ")\n",
    "\n",
    "# Inicializar un LLM base\n",
    "ChatGroq.api_key = os.getenv(\"GROQ_API_KEY\")\n",
    "llm = ChatGroq(model_name=\"llama3-8b-8192\")\n",
    "\n",
    "# Inicializar el agente con la herramienta RAG\n",
    "tools = [rag_tool_langchain]"
   ]
  },
  {
   "cell_type": "code",
   "execution_count": 3,
   "metadata": {},
   "outputs": [],
   "source": [
    "class AgentState(TypedDict):\n",
    "    messages: Annotated[list[AnyMessage], operator.add]"
   ]
  },
  {
   "cell_type": "code",
   "execution_count": 4,
   "metadata": {},
   "outputs": [],
   "source": [
    "class Agent:\n",
    "\n",
    "    def __init__(self, model, tools, system=\"\"):\n",
    "        self.system = system\n",
    "        graph = StateGraph(AgentState)\n",
    "        graph.add_node(\"llm\", self.call_groq)\n",
    "        graph.add_node(\"action\", self.take_action)\n",
    "        graph.add_conditional_edges(\n",
    "            \"llm\",\n",
    "            self.exists_action,\n",
    "            {True: \"action\", False: END}\n",
    "        )\n",
    "        graph.add_edge(\"action\", \"llm\")\n",
    "        graph.set_entry_point(\"llm\")\n",
    "        self.graph = graph.compile()\n",
    "        self.tools = {t.name: t for t in tools}\n",
    "        self.model = model.bind_tools(tools)\n",
    "\n",
    "    def exists_action(self, state: AgentState):\n",
    "        result = state['messages'][-1]\n",
    "        return len(result.tool_calls) > 0\n",
    "\n",
    "    def call_groq(self, state: AgentState):\n",
    "        messages = state['messages']\n",
    "        if self.system:\n",
    "            messages = [SystemMessage(content=self.system)] + messages\n",
    "        message = self.model.invoke(messages)\n",
    "        return {'messages': [message]}\n",
    "\n",
    "    def take_action(self, state: AgentState):\n",
    "        tool_calls = state['messages'][-1].tool_calls\n",
    "        results = []\n",
    "        for t in tool_calls:\n",
    "            print(f\"Calling: {t}\")\n",
    "            if not t['name'] in self.tools:      # check for bad tool name from LLM\n",
    "                print(\"\\n ....bad tool name....\")\n",
    "                result = \"bad tool name, retry\"  # instruct LLM to retry if bad\n",
    "            else:\n",
    "                result = self.tools[t['name']].invoke(t['args'])\n",
    "            # Mapero de la respuesta del tool\n",
    "            results.append(ToolMessage(tool_call_id=t['id'], name=t['name'], content=str(result)))\n",
    "        print(\"Back to the model!\")\n",
    "        return {'messages': results}"
   ]
  },
  {
   "cell_type": "code",
   "execution_count": 5,
   "metadata": {},
   "outputs": [],
   "source": [
    "prompt = \"\"\"You are a smart research assistant. Use the search engine to look up information. \\\n",
    "You are allowed to make multiple calls (either together or in sequence). \\\n",
    "Only look up information when you are sure of what you want. \\\n",
    "If you need to look up some information before asking a follow up question, you are allowed to do that!\n",
    "\"\"\"\n",
    "\n",
    "abot = Agent(llm, tools, system=prompt)"
   ]
  },
  {
   "cell_type": "code",
   "execution_count": 6,
   "metadata": {},
   "outputs": [
    {
     "data": {
      "image/png": "[encoded data removed]",
      "text/plain": [
       "<IPython.core.display.Image object>"
      ]
     },
     "execution_count": 6,
     "metadata": {},
     "output_type": "execute_result"
    }
   ],
   "source": [
    "import pygraphviz\n",
    "from IPython.display import Image\n",
    "\n",
    "Image(abot.graph.get_graph().draw_png())"
   ]
  },
  {
   "cell_type": "code",
   "execution_count": 7,
   "metadata": {},
   "outputs": [
    {
     "name": "stdout",
     "output_type": "stream",
     "text": [
      "Calling: {'name': 'RAG_Tool', 'args': {'__arg1': 'Javier'}, 'id': 'call_cf7z', 'type': 'tool_call'}\n",
      "Back to the model!\n",
      "Calling: {'name': 'RAG_Tool', 'args': {'__arg1': 'Java'}, 'id': 'call_bp3h', 'type': 'tool_call'}\n",
      "Back to the model!\n"
     ]
    }
   ],
   "source": [
    "messages = [HumanMessage(content=\"Does Javier know Java language?\")]\n",
    "result = abot.graph.invoke({\"messages\": messages})"
   ]
  },
  {
   "cell_type": "code",
   "execution_count": 8,
   "metadata": {},
   "outputs": [
    {
     "name": "stdout",
     "output_type": "stream",
     "text": [
      "{'messages': [HumanMessage(content='Does Javier know Java language?', additional_kwargs={}, response_metadata={}),\n",
      "              AIMessage(content='', additional_kwargs={'tool_calls': [{'id': 'call_cf7z', 'function': {'arguments': '{\"__arg1\":\"Javier\"}', 'name': 'RAG_Tool'}, 'type': 'function'}]}, response_metadata={'token_usage': {'completion_tokens': 69, 'prompt_tokens': 1000, 'total_tokens': 1069, 'completion_time': 0.0575, 'prompt_time': 0.04504214, 'queue_time': 0.0016693230000000003, 'total_time': 0.10254214}, 'model_name': 'llama3-8b-8192', 'system_fingerprint': 'fp_179b0f92c9', 'finish_reason': 'tool_calls', 'logprobs': None}, id='run-0ae297b3-2497-4bf1-b0e0-0d113296e0a6-0', tool_calls=[{'name': 'RAG_Tool', 'args': {'__arg1': 'Javier'}, 'id': 'call_cf7z', 'type': 'tool_call'}], usage_metadata={'input_tokens': 1000, 'output_tokens': 69, 'total_tokens': 1069}),\n",
      "              ToolMessage(content='Based on the provided information, here is an answer to the question \"Javier\":\\n\\nJavier is a Seasoned Architect and Systems Engineer with more than 12 years of experience in designing and implementing complex systems, primarily for large banks and fintech companies in LATAM (Latin America).', name='RAG_Tool', tool_call_id='call_cf7z'),\n",
      "              AIMessage(content='', additional_kwargs={'tool_calls': [{'id': 'call_bp3h', 'function': {'arguments': '{\"__arg1\":\"Java\"}', 'name': 'RAG_Tool'}, 'type': 'function'}]}, response_metadata={'token_usage': {'completion_tokens': 36, 'prompt_tokens': 1123, 'total_tokens': 1159, 'completion_time': 0.03, 'prompt_time': 0.128612801, 'queue_time': 0.002173186999999993, 'total_time': 0.158612801}, 'model_name': 'llama3-8b-8192', 'system_fingerprint': 'fp_a97cfe35ae', 'finish_reason': 'tool_calls', 'logprobs': None}, id='run-6957b636-3343-47a9-9faf-ad1698e4bfdf-0', tool_calls=[{'name': 'RAG_Tool', 'args': {'__arg1': 'Java'}, 'id': 'call_bp3h', 'type': 'tool_call'}], usage_metadata={'input_tokens': 1123, 'output_tokens': 36, 'total_tokens': 1159}),\n",
      "              ToolMessage(content='The answer to the question \"Java\" is: met all necessary non-functional specifications.', name='RAG_Tool', tool_call_id='call_bp3h'),\n",
      "              AIMessage(content='Based on the information provided, it seems that Javier knows Java language.', additional_kwargs={}, response_metadata={'token_usage': {'completion_tokens': 15, 'prompt_tokens': 1205, 'total_tokens': 1220, 'completion_time': 0.0125, 'prompt_time': 0.138426648, 'queue_time': 0.0004473989999999872, 'total_time': 0.150926648}, 'model_name': 'llama3-8b-8192', 'system_fingerprint': 'fp_a97cfe35ae', 'finish_reason': 'stop', 'logprobs': None}, id='run-3a587ded-923b-4a46-ae4f-d8d6669e1086-0', usage_metadata={'input_tokens': 1205, 'output_tokens': 15, 'total_tokens': 1220})]}\n"
     ]
    }
   ],
   "source": [
    "import pprint\n",
    "pprint.pprint(result)"
   ]
  }
 ],
 "metadata": {
  "kernelspec": {
   "display_name": ".venv",
   "language": "python",
   "name": "python3"
  },
  "language_info": {
   "codemirror_mode": {
    "name": "ipython",
    "version": 3
   },
   "file_extension": ".py",
   "mimetype": "text/x-python",
   "name": "python",
   "nbconvert_exporter": "python",
   "pygments_lexer": "ipython3",
   "version": "3.12.3"
  }
 },
 "nbformat": 4,
 "nbformat_minor": 2
}
