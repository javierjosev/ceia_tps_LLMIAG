{
 "cells": [
  {
   "cell_type": "markdown",
   "metadata": {},
   "source": [
    "# LLMs e IA Generativa\n",
    "\n",
    "## Text to image"
   ]
  },
  {
   "cell_type": "markdown",
   "metadata": {},
   "source": [
    "Link a la resolución del ejercicio:\n",
    "\n",
    "* https://colab.research.google.com/drive/11RklCcQsxJF70kv4az-FWaALeFZMLps0?usp=sharing"
   ]
  }
 ],
 "metadata": {
  "language_info": {
   "name": "python"
  }
 },
 "nbformat": 4,
 "nbformat_minor": 2
}
